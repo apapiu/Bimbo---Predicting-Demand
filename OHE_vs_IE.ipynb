{
 "cells": [
  {
   "cell_type": "markdown",
   "metadata": {},
   "source": [
    "### Testing One Hot Encoding versus Integer Encoding when you have multi-level categorical variables"
   ]
  },
  {
   "cell_type": "code",
   "execution_count": 47,
   "metadata": {
    "collapsed": false
   },
   "outputs": [],
   "source": [
    "import feather\n",
    "import pandas as pd\n",
    "import numpy as np"
   ]
  },
  {
   "cell_type": "code",
   "execution_count": 48,
   "metadata": {
    "collapsed": false
   },
   "outputs": [],
   "source": [
    "train = feather.read_dataframe(\"/Users/alexpapiu/Documents/Data/Bimbo/val.feather\")"
   ]
  },
  {
   "cell_type": "code",
   "execution_count": 149,
   "metadata": {
    "collapsed": true
   },
   "outputs": [],
   "source": [
    "train = pd.read_csv(\"/Users/alexpapiu/Documents/Data/Bimbo/train.csv\")"
   ]
  },
  {
   "cell_type": "code",
   "execution_count": 49,
   "metadata": {
    "collapsed": false
   },
   "outputs": [
    {
     "data": {
      "text/plain": [
       "(1000000, 19)"
      ]
     },
     "execution_count": 49,
     "metadata": {},
     "output_type": "execute_result"
    }
   ],
   "source": [
    "train.shape"
   ]
  },
  {
   "cell_type": "code",
   "execution_count": 50,
   "metadata": {
    "collapsed": false
   },
   "outputs": [
    {
     "data": {
      "text/html": [
       "<div>\n",
       "<table border=\"1\" class=\"dataframe\">\n",
       "  <thead>\n",
       "    <tr style=\"text-align: right;\">\n",
       "      <th></th>\n",
       "      <th>Producto_ID</th>\n",
       "      <th>Agencia_ID</th>\n",
       "      <th>Semana</th>\n",
       "      <th>Canal_ID</th>\n",
       "      <th>Ruta_SAK</th>\n",
       "      <th>Cliente_ID</th>\n",
       "      <th>Demanda_uni_equil</th>\n",
       "      <th>id</th>\n",
       "      <th>Town</th>\n",
       "      <th>State</th>\n",
       "      <th>V1</th>\n",
       "      <th>product_name</th>\n",
       "      <th>brand</th>\n",
       "      <th>weight</th>\n",
       "      <th>pieces</th>\n",
       "      <th>weight_per_piece</th>\n",
       "      <th>has_choco</th>\n",
       "      <th>has_vanilla</th>\n",
       "      <th>has_multigrain</th>\n",
       "    </tr>\n",
       "  </thead>\n",
       "  <tbody>\n",
       "    <tr>\n",
       "      <th>0</th>\n",
       "      <td>53</td>\n",
       "      <td>1374</td>\n",
       "      <td>9</td>\n",
       "      <td>4</td>\n",
       "      <td>6652</td>\n",
       "      <td>4578089</td>\n",
       "      <td>2</td>\n",
       "      <td>67467299</td>\n",
       "      <td>2251 AGUASCALIENTES NORTE</td>\n",
       "      <td>AGUASCALIENTES</td>\n",
       "      <td>4</td>\n",
       "      <td>Burritos Sincro 170g CU LON 53</td>\n",
       "      <td>LON</td>\n",
       "      <td>170</td>\n",
       "      <td>NaN</td>\n",
       "      <td>NaN</td>\n",
       "      <td>False</td>\n",
       "      <td>False</td>\n",
       "      <td>False</td>\n",
       "    </tr>\n",
       "    <tr>\n",
       "      <th>1</th>\n",
       "      <td>53</td>\n",
       "      <td>1374</td>\n",
       "      <td>9</td>\n",
       "      <td>4</td>\n",
       "      <td>6651</td>\n",
       "      <td>2155654</td>\n",
       "      <td>2</td>\n",
       "      <td>67466660</td>\n",
       "      <td>2251 AGUASCALIENTES NORTE</td>\n",
       "      <td>AGUASCALIENTES</td>\n",
       "      <td>4</td>\n",
       "      <td>Burritos Sincro 170g CU LON 53</td>\n",
       "      <td>LON</td>\n",
       "      <td>170</td>\n",
       "      <td>NaN</td>\n",
       "      <td>NaN</td>\n",
       "      <td>False</td>\n",
       "      <td>False</td>\n",
       "      <td>False</td>\n",
       "    </tr>\n",
       "    <tr>\n",
       "      <th>2</th>\n",
       "      <td>53</td>\n",
       "      <td>1374</td>\n",
       "      <td>9</td>\n",
       "      <td>4</td>\n",
       "      <td>6652</td>\n",
       "      <td>1011336</td>\n",
       "      <td>4</td>\n",
       "      <td>67467020</td>\n",
       "      <td>2251 AGUASCALIENTES NORTE</td>\n",
       "      <td>AGUASCALIENTES</td>\n",
       "      <td>4</td>\n",
       "      <td>Burritos Sincro 170g CU LON 53</td>\n",
       "      <td>LON</td>\n",
       "      <td>170</td>\n",
       "      <td>NaN</td>\n",
       "      <td>NaN</td>\n",
       "      <td>False</td>\n",
       "      <td>False</td>\n",
       "      <td>False</td>\n",
       "    </tr>\n",
       "  </tbody>\n",
       "</table>\n",
       "</div>"
      ],
      "text/plain": [
       "   Producto_ID  Agencia_ID  Semana  Canal_ID  Ruta_SAK  Cliente_ID  \\\n",
       "0           53        1374       9         4      6652     4578089   \n",
       "1           53        1374       9         4      6651     2155654   \n",
       "2           53        1374       9         4      6652     1011336   \n",
       "\n",
       "   Demanda_uni_equil        id                       Town           State V1  \\\n",
       "0                  2  67467299  2251 AGUASCALIENTES NORTE  AGUASCALIENTES  4   \n",
       "1                  2  67466660  2251 AGUASCALIENTES NORTE  AGUASCALIENTES  4   \n",
       "2                  4  67467020  2251 AGUASCALIENTES NORTE  AGUASCALIENTES  4   \n",
       "\n",
       "                     product_name brand  weight  pieces  weight_per_piece  \\\n",
       "0  Burritos Sincro 170g CU LON 53   LON     170     NaN               NaN   \n",
       "1  Burritos Sincro 170g CU LON 53   LON     170     NaN               NaN   \n",
       "2  Burritos Sincro 170g CU LON 53   LON     170     NaN               NaN   \n",
       "\n",
       "  has_choco has_vanilla has_multigrain  \n",
       "0     False       False          False  \n",
       "1     False       False          False  \n",
       "2     False       False          False  "
      ]
     },
     "execution_count": 50,
     "metadata": {},
     "output_type": "execute_result"
    }
   ],
   "source": [
    "train.head(3)"
   ]
  },
  {
   "cell_type": "code",
   "execution_count": 51,
   "metadata": {
    "collapsed": false
   },
   "outputs": [
    {
     "data": {
      "text/plain": [
       "Producto_ID            int32\n",
       "Agencia_ID             int32\n",
       "Semana                 int32\n",
       "Canal_ID               int32\n",
       "Ruta_SAK               int32\n",
       "Cliente_ID             int32\n",
       "Demanda_uni_equil      int32\n",
       "id                     int32\n",
       "Town                  object\n",
       "State                 object\n",
       "V1                    object\n",
       "product_name          object\n",
       "brand                 object\n",
       "weight               float64\n",
       "pieces               float64\n",
       "weight_per_piece     float64\n",
       "has_choco               bool\n",
       "has_vanilla             bool\n",
       "has_multigrain          bool\n",
       "dtype: object"
      ]
     },
     "execution_count": 51,
     "metadata": {},
     "output_type": "execute_result"
    }
   ],
   "source": [
    "train.dtypes"
   ]
  },
  {
   "cell_type": "code",
   "execution_count": 52,
   "metadata": {
    "collapsed": false
   },
   "outputs": [
    {
     "data": {
      "text/plain": [
       "1312"
      ]
     },
     "execution_count": 52,
     "metadata": {},
     "output_type": "execute_result"
    }
   ],
   "source": [
    "train.Agencia_ID.value_counts().index[10]"
   ]
  },
  {
   "cell_type": "code",
   "execution_count": 157,
   "metadata": {
    "collapsed": false
   },
   "outputs": [],
   "source": [
    "train = train[train.Agencia_ID == 1945]"
   ]
  },
  {
   "cell_type": "code",
   "execution_count": 53,
   "metadata": {
    "collapsed": false
   },
   "outputs": [
    {
     "data": {
      "text/plain": [
       "(1000000, 19)"
      ]
     },
     "execution_count": 53,
     "metadata": {},
     "output_type": "execute_result"
    }
   ],
   "source": [
    "train.shape"
   ]
  },
  {
   "cell_type": "markdown",
   "metadata": {},
   "source": [
    "###  Now let's try to integer encode stuff and apply xgboost:"
   ]
  },
  {
   "cell_type": "code",
   "execution_count": 54,
   "metadata": {
    "collapsed": true
   },
   "outputs": [],
   "source": [
    "from sklearn import preprocessing"
   ]
  },
  {
   "cell_type": "code",
   "execution_count": 55,
   "metadata": {
    "collapsed": true
   },
   "outputs": [],
   "source": [
    "le = preprocessing.LabelEncoder()"
   ]
  },
  {
   "cell_type": "code",
   "execution_count": 62,
   "metadata": {
    "collapsed": true
   },
   "outputs": [],
   "source": [
    "X = np.column_stack((le.fit_transform(train.Producto_ID),\n",
    "                     le.fit_transform(train.Canal_ID),\n",
    "                     le.fit_transform(train.Cliente_ID),\n",
    "                     le.fit_transform(train.Ruta_SAK),\n",
    "                     le.fit_transform(train.Agencia_ID)))"
   ]
  },
  {
   "cell_type": "code",
   "execution_count": 60,
   "metadata": {
    "collapsed": true
   },
   "outputs": [],
   "source": [
    "y = np.log1p(train.Demanda_uni_equil)"
   ]
  },
  {
   "cell_type": "code",
   "execution_count": 61,
   "metadata": {
    "collapsed": false
   },
   "outputs": [
    {
     "data": {
      "text/plain": [
       "(1000000, 5)"
      ]
     },
     "execution_count": 61,
     "metadata": {},
     "output_type": "execute_result"
    }
   ],
   "source": [
    "X.shape"
   ]
  },
  {
   "cell_type": "code",
   "execution_count": 67,
   "metadata": {
    "collapsed": true
   },
   "outputs": [],
   "source": [
    "import xgboost as xgb"
   ]
  },
  {
   "cell_type": "code",
   "execution_count": 165,
   "metadata": {
    "collapsed": false
   },
   "outputs": [],
   "source": [
    "dtrain = xgb.DMatrix(data = X, label = y)"
   ]
  },
  {
   "cell_type": "code",
   "execution_count": 172,
   "metadata": {
    "collapsed": false
   },
   "outputs": [],
   "source": [
    "params = {\n",
    "        \"eta\": 0.7,\n",
    "        \"max_depth\": 6,\n",
    "        \"silent\": 1,\n",
    "        \"seed\": 1233,\n",
    "    }"
   ]
  },
  {
   "cell_type": "code",
   "execution_count": 174,
   "metadata": {
    "collapsed": false
   },
   "outputs": [
    {
     "data": {
      "text/html": [
       "<div>\n",
       "<table border=\"1\" class=\"dataframe\">\n",
       "  <thead>\n",
       "    <tr style=\"text-align: right;\">\n",
       "      <th></th>\n",
       "      <th>test-rmse-mean</th>\n",
       "      <th>test-rmse-std</th>\n",
       "      <th>train-rmse-mean</th>\n",
       "      <th>train-rmse-std</th>\n",
       "    </tr>\n",
       "  </thead>\n",
       "  <tbody>\n",
       "    <tr>\n",
       "      <th>0</th>\n",
       "      <td>0.668165</td>\n",
       "      <td>0.007096</td>\n",
       "      <td>0.667889</td>\n",
       "      <td>0.006556</td>\n",
       "    </tr>\n",
       "    <tr>\n",
       "      <th>1</th>\n",
       "      <td>0.557114</td>\n",
       "      <td>0.004477</td>\n",
       "      <td>0.556773</td>\n",
       "      <td>0.004630</td>\n",
       "    </tr>\n",
       "    <tr>\n",
       "      <th>2</th>\n",
       "      <td>0.541426</td>\n",
       "      <td>0.008108</td>\n",
       "      <td>0.540532</td>\n",
       "      <td>0.008582</td>\n",
       "    </tr>\n",
       "    <tr>\n",
       "      <th>3</th>\n",
       "      <td>0.529641</td>\n",
       "      <td>0.004832</td>\n",
       "      <td>0.528921</td>\n",
       "      <td>0.004814</td>\n",
       "    </tr>\n",
       "    <tr>\n",
       "      <th>4</th>\n",
       "      <td>0.518630</td>\n",
       "      <td>0.001407</td>\n",
       "      <td>0.517749</td>\n",
       "      <td>0.000564</td>\n",
       "    </tr>\n",
       "    <tr>\n",
       "      <th>5</th>\n",
       "      <td>0.514054</td>\n",
       "      <td>0.001735</td>\n",
       "      <td>0.513014</td>\n",
       "      <td>0.002480</td>\n",
       "    </tr>\n",
       "    <tr>\n",
       "      <th>6</th>\n",
       "      <td>0.511275</td>\n",
       "      <td>0.001290</td>\n",
       "      <td>0.510080</td>\n",
       "      <td>0.001945</td>\n",
       "    </tr>\n",
       "    <tr>\n",
       "      <th>7</th>\n",
       "      <td>0.508625</td>\n",
       "      <td>0.001980</td>\n",
       "      <td>0.507389</td>\n",
       "      <td>0.001903</td>\n",
       "    </tr>\n",
       "    <tr>\n",
       "      <th>8</th>\n",
       "      <td>0.506592</td>\n",
       "      <td>0.001481</td>\n",
       "      <td>0.505069</td>\n",
       "      <td>0.001090</td>\n",
       "    </tr>\n",
       "    <tr>\n",
       "      <th>9</th>\n",
       "      <td>0.503878</td>\n",
       "      <td>0.000887</td>\n",
       "      <td>0.502393</td>\n",
       "      <td>0.000258</td>\n",
       "    </tr>\n",
       "    <tr>\n",
       "      <th>10</th>\n",
       "      <td>0.502322</td>\n",
       "      <td>0.000994</td>\n",
       "      <td>0.500668</td>\n",
       "      <td>0.000292</td>\n",
       "    </tr>\n",
       "    <tr>\n",
       "      <th>11</th>\n",
       "      <td>0.500452</td>\n",
       "      <td>0.000158</td>\n",
       "      <td>0.498734</td>\n",
       "      <td>0.000657</td>\n",
       "    </tr>\n",
       "    <tr>\n",
       "      <th>12</th>\n",
       "      <td>0.499104</td>\n",
       "      <td>0.000178</td>\n",
       "      <td>0.497147</td>\n",
       "      <td>0.000891</td>\n",
       "    </tr>\n",
       "    <tr>\n",
       "      <th>13</th>\n",
       "      <td>0.498353</td>\n",
       "      <td>0.000409</td>\n",
       "      <td>0.496249</td>\n",
       "      <td>0.000934</td>\n",
       "    </tr>\n",
       "    <tr>\n",
       "      <th>14</th>\n",
       "      <td>0.497546</td>\n",
       "      <td>0.000131</td>\n",
       "      <td>0.495191</td>\n",
       "      <td>0.000845</td>\n",
       "    </tr>\n",
       "    <tr>\n",
       "      <th>15</th>\n",
       "      <td>0.495840</td>\n",
       "      <td>0.000547</td>\n",
       "      <td>0.493281</td>\n",
       "      <td>0.001293</td>\n",
       "    </tr>\n",
       "    <tr>\n",
       "      <th>16</th>\n",
       "      <td>0.494774</td>\n",
       "      <td>0.000513</td>\n",
       "      <td>0.492070</td>\n",
       "      <td>0.001228</td>\n",
       "    </tr>\n",
       "    <tr>\n",
       "      <th>17</th>\n",
       "      <td>0.493456</td>\n",
       "      <td>0.000151</td>\n",
       "      <td>0.490582</td>\n",
       "      <td>0.000691</td>\n",
       "    </tr>\n",
       "    <tr>\n",
       "      <th>18</th>\n",
       "      <td>0.492978</td>\n",
       "      <td>0.000267</td>\n",
       "      <td>0.490017</td>\n",
       "      <td>0.000716</td>\n",
       "    </tr>\n",
       "    <tr>\n",
       "      <th>19</th>\n",
       "      <td>0.492558</td>\n",
       "      <td>0.000336</td>\n",
       "      <td>0.489469</td>\n",
       "      <td>0.000776</td>\n",
       "    </tr>\n",
       "    <tr>\n",
       "      <th>20</th>\n",
       "      <td>0.491507</td>\n",
       "      <td>0.000534</td>\n",
       "      <td>0.488282</td>\n",
       "      <td>0.000617</td>\n",
       "    </tr>\n",
       "    <tr>\n",
       "      <th>21</th>\n",
       "      <td>0.490642</td>\n",
       "      <td>0.000640</td>\n",
       "      <td>0.487322</td>\n",
       "      <td>0.000554</td>\n",
       "    </tr>\n",
       "    <tr>\n",
       "      <th>22</th>\n",
       "      <td>0.489498</td>\n",
       "      <td>0.000683</td>\n",
       "      <td>0.486018</td>\n",
       "      <td>0.000803</td>\n",
       "    </tr>\n",
       "    <tr>\n",
       "      <th>23</th>\n",
       "      <td>0.488532</td>\n",
       "      <td>0.000677</td>\n",
       "      <td>0.484875</td>\n",
       "      <td>0.000338</td>\n",
       "    </tr>\n",
       "    <tr>\n",
       "      <th>24</th>\n",
       "      <td>0.487738</td>\n",
       "      <td>0.000786</td>\n",
       "      <td>0.483996</td>\n",
       "      <td>0.000182</td>\n",
       "    </tr>\n",
       "    <tr>\n",
       "      <th>25</th>\n",
       "      <td>0.487270</td>\n",
       "      <td>0.000811</td>\n",
       "      <td>0.483477</td>\n",
       "      <td>0.000118</td>\n",
       "    </tr>\n",
       "    <tr>\n",
       "      <th>26</th>\n",
       "      <td>0.486488</td>\n",
       "      <td>0.000857</td>\n",
       "      <td>0.482520</td>\n",
       "      <td>0.000084</td>\n",
       "    </tr>\n",
       "    <tr>\n",
       "      <th>27</th>\n",
       "      <td>0.485820</td>\n",
       "      <td>0.000942</td>\n",
       "      <td>0.481716</td>\n",
       "      <td>0.000286</td>\n",
       "    </tr>\n",
       "    <tr>\n",
       "      <th>28</th>\n",
       "      <td>0.485084</td>\n",
       "      <td>0.000632</td>\n",
       "      <td>0.480857</td>\n",
       "      <td>0.000481</td>\n",
       "    </tr>\n",
       "    <tr>\n",
       "      <th>29</th>\n",
       "      <td>0.484343</td>\n",
       "      <td>0.000722</td>\n",
       "      <td>0.479926</td>\n",
       "      <td>0.000200</td>\n",
       "    </tr>\n",
       "    <tr>\n",
       "      <th>30</th>\n",
       "      <td>0.483737</td>\n",
       "      <td>0.001019</td>\n",
       "      <td>0.479228</td>\n",
       "      <td>0.000141</td>\n",
       "    </tr>\n",
       "    <tr>\n",
       "      <th>31</th>\n",
       "      <td>0.483115</td>\n",
       "      <td>0.000784</td>\n",
       "      <td>0.478515</td>\n",
       "      <td>0.000054</td>\n",
       "    </tr>\n",
       "    <tr>\n",
       "      <th>32</th>\n",
       "      <td>0.482678</td>\n",
       "      <td>0.000761</td>\n",
       "      <td>0.478023</td>\n",
       "      <td>0.000325</td>\n",
       "    </tr>\n",
       "    <tr>\n",
       "      <th>33</th>\n",
       "      <td>0.482269</td>\n",
       "      <td>0.000703</td>\n",
       "      <td>0.477439</td>\n",
       "      <td>0.000288</td>\n",
       "    </tr>\n",
       "    <tr>\n",
       "      <th>34</th>\n",
       "      <td>0.481998</td>\n",
       "      <td>0.000610</td>\n",
       "      <td>0.477112</td>\n",
       "      <td>0.000472</td>\n",
       "    </tr>\n",
       "    <tr>\n",
       "      <th>35</th>\n",
       "      <td>0.481174</td>\n",
       "      <td>0.000637</td>\n",
       "      <td>0.476081</td>\n",
       "      <td>0.000188</td>\n",
       "    </tr>\n",
       "    <tr>\n",
       "      <th>36</th>\n",
       "      <td>0.480714</td>\n",
       "      <td>0.000686</td>\n",
       "      <td>0.475482</td>\n",
       "      <td>0.000372</td>\n",
       "    </tr>\n",
       "    <tr>\n",
       "      <th>37</th>\n",
       "      <td>0.479920</td>\n",
       "      <td>0.000581</td>\n",
       "      <td>0.474540</td>\n",
       "      <td>0.000378</td>\n",
       "    </tr>\n",
       "    <tr>\n",
       "      <th>38</th>\n",
       "      <td>0.479379</td>\n",
       "      <td>0.000701</td>\n",
       "      <td>0.473915</td>\n",
       "      <td>0.000185</td>\n",
       "    </tr>\n",
       "    <tr>\n",
       "      <th>39</th>\n",
       "      <td>0.478900</td>\n",
       "      <td>0.000751</td>\n",
       "      <td>0.473242</td>\n",
       "      <td>0.000106</td>\n",
       "    </tr>\n",
       "  </tbody>\n",
       "</table>\n",
       "</div>"
      ],
      "text/plain": [
       "    test-rmse-mean  test-rmse-std  train-rmse-mean  train-rmse-std\n",
       "0         0.668165       0.007096         0.667889        0.006556\n",
       "1         0.557114       0.004477         0.556773        0.004630\n",
       "2         0.541426       0.008108         0.540532        0.008582\n",
       "3         0.529641       0.004832         0.528921        0.004814\n",
       "4         0.518630       0.001407         0.517749        0.000564\n",
       "5         0.514054       0.001735         0.513014        0.002480\n",
       "6         0.511275       0.001290         0.510080        0.001945\n",
       "7         0.508625       0.001980         0.507389        0.001903\n",
       "8         0.506592       0.001481         0.505069        0.001090\n",
       "9         0.503878       0.000887         0.502393        0.000258\n",
       "10        0.502322       0.000994         0.500668        0.000292\n",
       "11        0.500452       0.000158         0.498734        0.000657\n",
       "12        0.499104       0.000178         0.497147        0.000891\n",
       "13        0.498353       0.000409         0.496249        0.000934\n",
       "14        0.497546       0.000131         0.495191        0.000845\n",
       "15        0.495840       0.000547         0.493281        0.001293\n",
       "16        0.494774       0.000513         0.492070        0.001228\n",
       "17        0.493456       0.000151         0.490582        0.000691\n",
       "18        0.492978       0.000267         0.490017        0.000716\n",
       "19        0.492558       0.000336         0.489469        0.000776\n",
       "20        0.491507       0.000534         0.488282        0.000617\n",
       "21        0.490642       0.000640         0.487322        0.000554\n",
       "22        0.489498       0.000683         0.486018        0.000803\n",
       "23        0.488532       0.000677         0.484875        0.000338\n",
       "24        0.487738       0.000786         0.483996        0.000182\n",
       "25        0.487270       0.000811         0.483477        0.000118\n",
       "26        0.486488       0.000857         0.482520        0.000084\n",
       "27        0.485820       0.000942         0.481716        0.000286\n",
       "28        0.485084       0.000632         0.480857        0.000481\n",
       "29        0.484343       0.000722         0.479926        0.000200\n",
       "30        0.483737       0.001019         0.479228        0.000141\n",
       "31        0.483115       0.000784         0.478515        0.000054\n",
       "32        0.482678       0.000761         0.478023        0.000325\n",
       "33        0.482269       0.000703         0.477439        0.000288\n",
       "34        0.481998       0.000610         0.477112        0.000472\n",
       "35        0.481174       0.000637         0.476081        0.000188\n",
       "36        0.480714       0.000686         0.475482        0.000372\n",
       "37        0.479920       0.000581         0.474540        0.000378\n",
       "38        0.479379       0.000701         0.473915        0.000185\n",
       "39        0.478900       0.000751         0.473242        0.000106"
      ]
     },
     "execution_count": 174,
     "metadata": {},
     "output_type": "execute_result"
    }
   ],
   "source": [
    "xgb.cv(params, dtrain, num_boost_round=40)"
   ]
  },
  {
   "cell_type": "markdown",
   "metadata": {},
   "source": [
    "### And let's also try One Hot Encoding:"
   ]
  },
  {
   "cell_type": "code",
   "execution_count": 175,
   "metadata": {
    "collapsed": false
   },
   "outputs": [
    {
     "data": {
      "text/plain": [
       "(570384, 11)"
      ]
     },
     "execution_count": 175,
     "metadata": {},
     "output_type": "execute_result"
    }
   ],
   "source": [
    "le.fit"
   ]
  },
  {
   "cell_type": "code",
   "execution_count": 182,
   "metadata": {
    "collapsed": false
   },
   "outputs": [],
   "source": [
    "train.Cliente_ID = train.Cliente_ID.astype(\"str\")\n",
    "train.Producto_ID = train.Producto_ID.astype(\"str\")\n"
   ]
  },
  {
   "cell_type": "code",
   "execution_count": 69,
   "metadata": {
    "collapsed": false
   },
   "outputs": [
    {
     "data": {
      "text/html": [
       "<div>\n",
       "<table border=\"1\" class=\"dataframe\">\n",
       "  <thead>\n",
       "    <tr style=\"text-align: right;\">\n",
       "      <th></th>\n",
       "      <th>Cliente_ID</th>\n",
       "      <th>Producto_ID</th>\n",
       "    </tr>\n",
       "  </thead>\n",
       "  <tbody>\n",
       "    <tr>\n",
       "      <th>1</th>\n",
       "      <td>2155654</td>\n",
       "      <td>53</td>\n",
       "    </tr>\n",
       "    <tr>\n",
       "      <th>2</th>\n",
       "      <td>1011336</td>\n",
       "      <td>53</td>\n",
       "    </tr>\n",
       "    <tr>\n",
       "      <th>3</th>\n",
       "      <td>74428</td>\n",
       "      <td>72</td>\n",
       "    </tr>\n",
       "    <tr>\n",
       "      <th>4</th>\n",
       "      <td>416953</td>\n",
       "      <td>72</td>\n",
       "    </tr>\n",
       "    <tr>\n",
       "      <th>5</th>\n",
       "      <td>4661879</td>\n",
       "      <td>72</td>\n",
       "    </tr>\n",
       "    <tr>\n",
       "      <th>6</th>\n",
       "      <td>1393062</td>\n",
       "      <td>72</td>\n",
       "    </tr>\n",
       "    <tr>\n",
       "      <th>7</th>\n",
       "      <td>73880</td>\n",
       "      <td>72</td>\n",
       "    </tr>\n",
       "    <tr>\n",
       "      <th>8</th>\n",
       "      <td>1272481</td>\n",
       "      <td>72</td>\n",
       "    </tr>\n",
       "    <tr>\n",
       "      <th>9</th>\n",
       "      <td>4362105</td>\n",
       "      <td>72</td>\n",
       "    </tr>\n",
       "    <tr>\n",
       "      <th>10</th>\n",
       "      <td>2315372</td>\n",
       "      <td>72</td>\n",
       "    </tr>\n",
       "    <tr>\n",
       "      <th>11</th>\n",
       "      <td>4629025</td>\n",
       "      <td>72</td>\n",
       "    </tr>\n",
       "    <tr>\n",
       "      <th>12</th>\n",
       "      <td>65203</td>\n",
       "      <td>72</td>\n",
       "    </tr>\n",
       "    <tr>\n",
       "      <th>13</th>\n",
       "      <td>4655830</td>\n",
       "      <td>72</td>\n",
       "    </tr>\n",
       "    <tr>\n",
       "      <th>14</th>\n",
       "      <td>4527902</td>\n",
       "      <td>72</td>\n",
       "    </tr>\n",
       "    <tr>\n",
       "      <th>15</th>\n",
       "      <td>4568867</td>\n",
       "      <td>72</td>\n",
       "    </tr>\n",
       "    <tr>\n",
       "      <th>16</th>\n",
       "      <td>33215</td>\n",
       "      <td>72</td>\n",
       "    </tr>\n",
       "    <tr>\n",
       "      <th>17</th>\n",
       "      <td>2322238</td>\n",
       "      <td>72</td>\n",
       "    </tr>\n",
       "    <tr>\n",
       "      <th>18</th>\n",
       "      <td>1061428</td>\n",
       "      <td>72</td>\n",
       "    </tr>\n",
       "    <tr>\n",
       "      <th>19</th>\n",
       "      <td>65266</td>\n",
       "      <td>72</td>\n",
       "    </tr>\n",
       "    <tr>\n",
       "      <th>20</th>\n",
       "      <td>64570</td>\n",
       "      <td>72</td>\n",
       "    </tr>\n",
       "    <tr>\n",
       "      <th>21</th>\n",
       "      <td>1031591</td>\n",
       "      <td>72</td>\n",
       "    </tr>\n",
       "    <tr>\n",
       "      <th>22</th>\n",
       "      <td>2152818</td>\n",
       "      <td>72</td>\n",
       "    </tr>\n",
       "    <tr>\n",
       "      <th>23</th>\n",
       "      <td>50833</td>\n",
       "      <td>72</td>\n",
       "    </tr>\n",
       "    <tr>\n",
       "      <th>24</th>\n",
       "      <td>50335</td>\n",
       "      <td>72</td>\n",
       "    </tr>\n",
       "    <tr>\n",
       "      <th>25</th>\n",
       "      <td>4684133</td>\n",
       "      <td>72</td>\n",
       "    </tr>\n",
       "    <tr>\n",
       "      <th>26</th>\n",
       "      <td>65961</td>\n",
       "      <td>72</td>\n",
       "    </tr>\n",
       "    <tr>\n",
       "      <th>27</th>\n",
       "      <td>2151154</td>\n",
       "      <td>72</td>\n",
       "    </tr>\n",
       "    <tr>\n",
       "      <th>28</th>\n",
       "      <td>331274</td>\n",
       "      <td>72</td>\n",
       "    </tr>\n",
       "    <tr>\n",
       "      <th>29</th>\n",
       "      <td>1360235</td>\n",
       "      <td>72</td>\n",
       "    </tr>\n",
       "    <tr>\n",
       "      <th>30</th>\n",
       "      <td>976789</td>\n",
       "      <td>72</td>\n",
       "    </tr>\n",
       "    <tr>\n",
       "      <th>...</th>\n",
       "      <td>...</td>\n",
       "      <td>...</td>\n",
       "    </tr>\n",
       "    <tr>\n",
       "      <th>970</th>\n",
       "      <td>341215</td>\n",
       "      <td>72</td>\n",
       "    </tr>\n",
       "    <tr>\n",
       "      <th>971</th>\n",
       "      <td>319118</td>\n",
       "      <td>72</td>\n",
       "    </tr>\n",
       "    <tr>\n",
       "      <th>972</th>\n",
       "      <td>1803874</td>\n",
       "      <td>72</td>\n",
       "    </tr>\n",
       "    <tr>\n",
       "      <th>973</th>\n",
       "      <td>363252</td>\n",
       "      <td>72</td>\n",
       "    </tr>\n",
       "    <tr>\n",
       "      <th>974</th>\n",
       "      <td>1865553</td>\n",
       "      <td>72</td>\n",
       "    </tr>\n",
       "    <tr>\n",
       "      <th>975</th>\n",
       "      <td>918930</td>\n",
       "      <td>72</td>\n",
       "    </tr>\n",
       "    <tr>\n",
       "      <th>976</th>\n",
       "      <td>4730813</td>\n",
       "      <td>72</td>\n",
       "    </tr>\n",
       "    <tr>\n",
       "      <th>977</th>\n",
       "      <td>263340</td>\n",
       "      <td>72</td>\n",
       "    </tr>\n",
       "    <tr>\n",
       "      <th>978</th>\n",
       "      <td>1867680</td>\n",
       "      <td>72</td>\n",
       "    </tr>\n",
       "    <tr>\n",
       "      <th>979</th>\n",
       "      <td>1517602</td>\n",
       "      <td>72</td>\n",
       "    </tr>\n",
       "    <tr>\n",
       "      <th>980</th>\n",
       "      <td>1152314</td>\n",
       "      <td>72</td>\n",
       "    </tr>\n",
       "    <tr>\n",
       "      <th>981</th>\n",
       "      <td>1304659</td>\n",
       "      <td>72</td>\n",
       "    </tr>\n",
       "    <tr>\n",
       "      <th>982</th>\n",
       "      <td>262622</td>\n",
       "      <td>72</td>\n",
       "    </tr>\n",
       "    <tr>\n",
       "      <th>983</th>\n",
       "      <td>4561504</td>\n",
       "      <td>72</td>\n",
       "    </tr>\n",
       "    <tr>\n",
       "      <th>984</th>\n",
       "      <td>339420</td>\n",
       "      <td>72</td>\n",
       "    </tr>\n",
       "    <tr>\n",
       "      <th>985</th>\n",
       "      <td>2022798</td>\n",
       "      <td>72</td>\n",
       "    </tr>\n",
       "    <tr>\n",
       "      <th>986</th>\n",
       "      <td>84779</td>\n",
       "      <td>72</td>\n",
       "    </tr>\n",
       "    <tr>\n",
       "      <th>987</th>\n",
       "      <td>85049</td>\n",
       "      <td>72</td>\n",
       "    </tr>\n",
       "    <tr>\n",
       "      <th>988</th>\n",
       "      <td>2487509</td>\n",
       "      <td>72</td>\n",
       "    </tr>\n",
       "    <tr>\n",
       "      <th>989</th>\n",
       "      <td>86852</td>\n",
       "      <td>72</td>\n",
       "    </tr>\n",
       "    <tr>\n",
       "      <th>990</th>\n",
       "      <td>170163</td>\n",
       "      <td>72</td>\n",
       "    </tr>\n",
       "    <tr>\n",
       "      <th>991</th>\n",
       "      <td>2332874</td>\n",
       "      <td>72</td>\n",
       "    </tr>\n",
       "    <tr>\n",
       "      <th>992</th>\n",
       "      <td>87574</td>\n",
       "      <td>72</td>\n",
       "    </tr>\n",
       "    <tr>\n",
       "      <th>993</th>\n",
       "      <td>2383361</td>\n",
       "      <td>72</td>\n",
       "    </tr>\n",
       "    <tr>\n",
       "      <th>994</th>\n",
       "      <td>168832</td>\n",
       "      <td>72</td>\n",
       "    </tr>\n",
       "    <tr>\n",
       "      <th>995</th>\n",
       "      <td>4400210</td>\n",
       "      <td>72</td>\n",
       "    </tr>\n",
       "    <tr>\n",
       "      <th>996</th>\n",
       "      <td>87928</td>\n",
       "      <td>72</td>\n",
       "    </tr>\n",
       "    <tr>\n",
       "      <th>997</th>\n",
       "      <td>1680673</td>\n",
       "      <td>72</td>\n",
       "    </tr>\n",
       "    <tr>\n",
       "      <th>998</th>\n",
       "      <td>180408</td>\n",
       "      <td>72</td>\n",
       "    </tr>\n",
       "    <tr>\n",
       "      <th>999</th>\n",
       "      <td>87220</td>\n",
       "      <td>72</td>\n",
       "    </tr>\n",
       "  </tbody>\n",
       "</table>\n",
       "<p>999 rows × 2 columns</p>\n",
       "</div>"
      ],
      "text/plain": [
       "     Cliente_ID  Producto_ID\n",
       "1       2155654           53\n",
       "2       1011336           53\n",
       "3         74428           72\n",
       "4        416953           72\n",
       "5       4661879           72\n",
       "6       1393062           72\n",
       "7         73880           72\n",
       "8       1272481           72\n",
       "9       4362105           72\n",
       "10      2315372           72\n",
       "11      4629025           72\n",
       "12        65203           72\n",
       "13      4655830           72\n",
       "14      4527902           72\n",
       "15      4568867           72\n",
       "16        33215           72\n",
       "17      2322238           72\n",
       "18      1061428           72\n",
       "19        65266           72\n",
       "20        64570           72\n",
       "21      1031591           72\n",
       "22      2152818           72\n",
       "23        50833           72\n",
       "24        50335           72\n",
       "25      4684133           72\n",
       "26        65961           72\n",
       "27      2151154           72\n",
       "28       331274           72\n",
       "29      1360235           72\n",
       "30       976789           72\n",
       "..          ...          ...\n",
       "970      341215           72\n",
       "971      319118           72\n",
       "972     1803874           72\n",
       "973      363252           72\n",
       "974     1865553           72\n",
       "975      918930           72\n",
       "976     4730813           72\n",
       "977      263340           72\n",
       "978     1867680           72\n",
       "979     1517602           72\n",
       "980     1152314           72\n",
       "981     1304659           72\n",
       "982      262622           72\n",
       "983     4561504           72\n",
       "984      339420           72\n",
       "985     2022798           72\n",
       "986       84779           72\n",
       "987       85049           72\n",
       "988     2487509           72\n",
       "989       86852           72\n",
       "990      170163           72\n",
       "991     2332874           72\n",
       "992       87574           72\n",
       "993     2383361           72\n",
       "994      168832           72\n",
       "995     4400210           72\n",
       "996       87928           72\n",
       "997     1680673           72\n",
       "998      180408           72\n",
       "999       87220           72\n",
       "\n",
       "[999 rows x 2 columns]"
      ]
     },
     "execution_count": 69,
     "metadata": {},
     "output_type": "execute_result"
    }
   ],
   "source": [
    "pd.get_dummies(train[1:1000][[\"Cliente_ID\", \"Producto_ID\"]])"
   ]
  },
  {
   "cell_type": "code",
   "execution_count": 37,
   "metadata": {
    "collapsed": false
   },
   "outputs": [],
   "source": [
    "X = np.array([[1, 2, 3, 3, 4], [1, 2, 3, 1, 1]])"
   ]
  },
  {
   "cell_type": "code",
   "execution_count": 43,
   "metadata": {
    "collapsed": false
   },
   "outputs": [],
   "source": [
    "X = np.column_stack(([1, 2, 3, 3, 4], [1, 2, 3, 1, 1]))"
   ]
  },
  {
   "cell_type": "code",
   "execution_count": 44,
   "metadata": {
    "collapsed": false
   },
   "outputs": [
    {
     "data": {
      "text/plain": [
       "OneHotEncoder(categorical_features='all', dtype=<class 'float'>,\n",
       "       handle_unknown='error', n_values='auto', sparse=True)"
      ]
     },
     "execution_count": 44,
     "metadata": {},
     "output_type": "execute_result"
    }
   ],
   "source": [
    "from sklearn.preprocessing import OneHotEncoder\n",
    "enc = OneHotEncoder()\n",
    "enc.fit(X)  "
   ]
  },
  {
   "cell_type": "code",
   "execution_count": 45,
   "metadata": {
    "collapsed": false
   },
   "outputs": [
    {
     "data": {
      "text/plain": [
       "(5, 2)"
      ]
     },
     "execution_count": 45,
     "metadata": {},
     "output_type": "execute_result"
    }
   ],
   "source": [
    "X.shape"
   ]
  },
  {
   "cell_type": "code",
   "execution_count": 46,
   "metadata": {
    "collapsed": false
   },
   "outputs": [
    {
     "data": {
      "text/plain": [
       "array([[ 1.,  0.,  0.,  0.,  1.,  0.,  0.],\n",
       "       [ 0.,  1.,  0.,  0.,  0.,  1.,  0.],\n",
       "       [ 0.,  0.,  1.,  0.,  0.,  0.,  1.],\n",
       "       [ 0.,  0.,  1.,  0.,  1.,  0.,  0.],\n",
       "       [ 0.,  0.,  0.,  1.,  1.,  0.,  0.]])"
      ]
     },
     "execution_count": 46,
     "metadata": {},
     "output_type": "execute_result"
    }
   ],
   "source": [
    "enc.transform(X).toarray()"
   ]
  },
  {
   "cell_type": "code",
   "execution_count": null,
   "metadata": {
    "collapsed": true
   },
   "outputs": [],
   "source": []
  }
 ],
 "metadata": {
  "kernelspec": {
   "display_name": "Python 3",
   "language": "python",
   "name": "python3"
  },
  "language_info": {
   "codemirror_mode": {
    "name": "ipython",
    "version": 3
   },
   "file_extension": ".py",
   "mimetype": "text/x-python",
   "name": "python",
   "nbconvert_exporter": "python",
   "pygments_lexer": "ipython3",
   "version": "3.4.4"
  }
 },
 "nbformat": 4,
 "nbformat_minor": 0
}
