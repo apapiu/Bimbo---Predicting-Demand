{
 "cells": [
  {
   "cell_type": "markdown",
   "metadata": {},
   "source": [
    "EDA for the kaggle bimbo competition"
   ]
  },
  {
   "cell_type": "code",
   "execution_count": 1,
   "metadata": {
    "collapsed": false
   },
   "outputs": [
    {
     "name": "stderr",
     "output_type": "stream",
     "text": [
      "\n",
      "Attaching package: ‘dplyr’\n",
      "\n",
      "The following objects are masked from ‘package:data.table’:\n",
      "\n",
      "    between, last\n",
      "\n",
      "The following objects are masked from ‘package:stats’:\n",
      "\n",
      "    filter, lag\n",
      "\n",
      "The following objects are masked from ‘package:base’:\n",
      "\n",
      "    intersect, setdiff, setequal, union\n",
      "\n"
     ]
    }
   ],
   "source": [
    "library(data.table)\n",
    "library(dplyr)\n",
    "library(ggplot2)"
   ]
  },
  {
   "cell_type": "code",
   "execution_count": 13,
   "metadata": {
    "collapsed": false
   },
   "outputs": [
    {
     "name": "stdout",
     "output_type": "stream",
     "text": [
      "\r",
      "Read 0.0% of 74180464 rows\r",
      "Read 3.6% of 74180464 rows\r",
      "Read 7.4% of 74180464 rows\r",
      "Read 11.1% of 74180464 rows\r",
      "Read 14.7% of 74180464 rows\r",
      "Read 18.4% of 74180464 rows\r",
      "Read 22.1% of 74180464 rows\r",
      "Read 25.6% of 74180464 rows\r",
      "Read 29.0% of 74180464 rows\r",
      "Read 32.5% of 74180464 rows\r",
      "Read 35.0% of 74180464 rows\r",
      "Read 37.7% of 74180464 rows\r",
      "Read 40.2% of 74180464 rows\r",
      "Read 43.0% of 74180464 rows\r",
      "Read 46.2% of 74180464 rows\r",
      "Read 49.3% of 74180464 rows\r",
      "Read 52.5% of 74180464 rows\r",
      "Read 55.9% of 74180464 rows\r",
      "Read 59.3% of 74180464 rows\r",
      "Read 62.9% of 74180464 rows\r",
      "Read 66.1% of 74180464 rows\r",
      "Read 69.2% of 74180464 rows\r",
      "Read 71.6% of 74180464 rows\r",
      "Read 74.4% of 74180464 rows\r",
      "Read 77.7% of 74180464 rows\r",
      "Read 81.3% of 74180464 rows\r",
      "Read 85.0% of 74180464 rows\r",
      "Read 88.6% of 74180464 rows\r",
      "Read 92.2% of 74180464 rows\r",
      "Read 95.9% of 74180464 rows\r",
      "Read 99.4% of 74180464 rows\r",
      "Read 74180464 rows and 11 (of 11) columns from 2.980 GB file in 00:00:38\n"
     ]
    }
   ],
   "source": [
    "n = 1e5\n",
    "train = fread(\"/Users/alexpapiu/Documents/Data/Bimbo/train.csv\")"
   ]
  },
  {
   "cell_type": "markdown",
   "metadata": {},
   "source": [
    "So we have 74180464 rows of data, dang."
   ]
  },
  {
   "cell_type": "code",
   "execution_count": 14,
   "metadata": {
    "collapsed": false,
    "scrolled": true
   },
   "outputs": [
    {
     "data": {
      "text/html": [
       "<table>\n",
       "<thead><tr><th></th><th scope=col>Semana</th><th scope=col>Agencia_ID</th><th scope=col>Canal_ID</th><th scope=col>Ruta_SAK</th><th scope=col>Cliente_ID</th><th scope=col>Producto_ID</th><th scope=col>Venta_uni_hoy</th><th scope=col>Venta_hoy</th><th scope=col>Dev_uni_proxima</th><th scope=col>Dev_proxima</th><th scope=col>Demanda_uni_equil</th></tr></thead>\n",
       "<tbody>\n",
       "\t<tr><th scope=row>1</th><td>3</td><td>1110</td><td>7</td><td>3301</td><td>15766</td><td>1212</td><td>3</td><td>25.14</td><td>0</td><td>0</td><td>3</td></tr>\n",
       "\t<tr><th scope=row>2</th><td>3</td><td>1110</td><td>7</td><td>3301</td><td>15766</td><td>1216</td><td>4</td><td>33.52</td><td>0</td><td>0</td><td>4</td></tr>\n",
       "\t<tr><th scope=row>3</th><td>3</td><td>1110</td><td>7</td><td>3301</td><td>15766</td><td>1238</td><td>4</td><td>39.32</td><td>0</td><td>0</td><td>4</td></tr>\n",
       "\t<tr><th scope=row>4</th><td>3</td><td>1110</td><td>7</td><td>3301</td><td>15766</td><td>1240</td><td>4</td><td>33.52</td><td>0</td><td>0</td><td>4</td></tr>\n",
       "\t<tr><th scope=row>5</th><td>3</td><td>1110</td><td>7</td><td>3301</td><td>15766</td><td>1242</td><td>3</td><td>22.92</td><td>0</td><td>0</td><td>3</td></tr>\n",
       "\t<tr><th scope=row>6</th><td>3</td><td>1110</td><td>7</td><td>3301</td><td>15766</td><td>1250</td><td>5</td><td>38.2</td><td>0</td><td>0</td><td>5</td></tr>\n",
       "</tbody>\n",
       "</table>\n"
      ],
      "text/latex": [
       "\\begin{tabular}{r|lllllllllll}\n",
       "  & Semana & Agencia_ID & Canal_ID & Ruta_SAK & Cliente_ID & Producto_ID & Venta_uni_hoy & Venta_hoy & Dev_uni_proxima & Dev_proxima & Demanda_uni_equil\\\\\n",
       "\\hline\n",
       "\t1 & 3 & 1110 & 7 & 3301 & 15766 & 1212 & 3 & 25.14 & 0 & 0 & 3\\\\\n",
       "\t2 & 3 & 1110 & 7 & 3301 & 15766 & 1216 & 4 & 33.52 & 0 & 0 & 4\\\\\n",
       "\t3 & 3 & 1110 & 7 & 3301 & 15766 & 1238 & 4 & 39.32 & 0 & 0 & 4\\\\\n",
       "\t4 & 3 & 1110 & 7 & 3301 & 15766 & 1240 & 4 & 33.52 & 0 & 0 & 4\\\\\n",
       "\t5 & 3 & 1110 & 7 & 3301 & 15766 & 1242 & 3 & 22.92 & 0 & 0 & 3\\\\\n",
       "\t6 & 3 & 1110 & 7 & 3301 & 15766 & 1250 & 5 & 38.2 & 0 & 0 & 5\\\\\n",
       "\\end{tabular}\n"
      ],
      "text/plain": [
       "   Semana Agencia_ID Canal_ID Ruta_SAK Cliente_ID Producto_ID Venta_uni_hoy\n",
       "1:      3       1110        7     3301      15766        1212             3\n",
       "2:      3       1110        7     3301      15766        1216             4\n",
       "3:      3       1110        7     3301      15766        1238             4\n",
       "4:      3       1110        7     3301      15766        1240             4\n",
       "5:      3       1110        7     3301      15766        1242             3\n",
       "6:      3       1110        7     3301      15766        1250             5\n",
       "   Venta_hoy Dev_uni_proxima Dev_proxima Demanda_uni_equil\n",
       "1:     25.14               0           0                 3\n",
       "2:     33.52               0           0                 4\n",
       "3:     39.32               0           0                 4\n",
       "4:     33.52               0           0                 4\n",
       "5:     22.92               0           0                 3\n",
       "6:     38.20               0           0                 5"
      ]
     },
     "execution_count": 14,
     "metadata": {},
     "output_type": "execute_result"
    }
   ],
   "source": [
    "head(train)"
   ]
  },
  {
   "cell_type": "code",
   "execution_count": 15,
   "metadata": {
    "collapsed": false
   },
   "outputs": [
    {
     "name": "stdout",
     "output_type": "stream",
     "text": [
      "Classes ‘data.table’ and 'data.frame':\t74180464 obs. of  11 variables:\n",
      " $ Semana           : int  3 3 3 3 3 3 3 3 3 3 ...\n",
      " $ Agencia_ID       : int  1110 1110 1110 1110 1110 1110 1110 1110 1110 1110 ...\n",
      " $ Canal_ID         : int  7 7 7 7 7 7 7 7 7 7 ...\n",
      " $ Ruta_SAK         : int  3301 3301 3301 3301 3301 3301 3301 3301 3301 3301 ...\n",
      " $ Cliente_ID       : int  15766 15766 15766 15766 15766 15766 15766 15766 15766 15766 ...\n",
      " $ Producto_ID      : int  1212 1216 1238 1240 1242 1250 1309 3894 4085 5310 ...\n",
      " $ Venta_uni_hoy    : int  3 4 4 4 3 5 3 6 4 6 ...\n",
      " $ Venta_hoy        : num  25.1 33.5 39.3 33.5 22.9 ...\n",
      " $ Dev_uni_proxima  : int  0 0 0 0 0 0 0 0 0 0 ...\n",
      " $ Dev_proxima      : num  0 0 0 0 0 0 0 0 0 0 ...\n",
      " $ Demanda_uni_equil: int  3 4 4 4 3 5 3 6 4 6 ...\n",
      " - attr(*, \".internal.selfref\")=<externalptr> \n"
     ]
    }
   ],
   "source": [
    "str(train)"
   ]
  },
  {
   "cell_type": "code",
   "execution_count": 16,
   "metadata": {
    "collapsed": false
   },
   "outputs": [
    {
     "data": {
      "text/plain": [
       "     Semana       Agencia_ID       Canal_ID         Ruta_SAK   \n",
       " Min.   :3.00   Min.   : 1110   Min.   : 1.000   Min.   :   1  \n",
       " 1st Qu.:4.00   1st Qu.: 1312   1st Qu.: 1.000   1st Qu.:1161  \n",
       " Median :6.00   Median : 1613   Median : 1.000   Median :1286  \n",
       " Mean   :5.95   Mean   : 2537   Mean   : 1.383   Mean   :2115  \n",
       " 3rd Qu.:8.00   3rd Qu.: 2036   3rd Qu.: 1.000   3rd Qu.:2802  \n",
       " Max.   :9.00   Max.   :25759   Max.   :11.000   Max.   :9991  \n",
       "   Cliente_ID         Producto_ID    Venta_uni_hoy       Venta_hoy       \n",
       " Min.   :2.600e+01   Min.   :   41   Min.   :   0.00   Min.   :     0.0  \n",
       " 1st Qu.:3.568e+05   1st Qu.: 1242   1st Qu.:   2.00   1st Qu.:    16.8  \n",
       " Median :1.193e+06   Median :30549   Median :   3.00   Median :    30.0  \n",
       " Mean   :1.802e+06   Mean   :20841   Mean   :   7.31   Mean   :    68.5  \n",
       " 3rd Qu.:2.371e+06   3rd Qu.:37426   3rd Qu.:   7.00   3rd Qu.:    56.1  \n",
       " Max.   :2.015e+09   Max.   :49997   Max.   :7200.00   Max.   :647360.0  \n",
       " Dev_uni_proxima    Dev_proxima        Demanda_uni_equil \n",
       " Min.   :0.0e+00   Min.   :     0.00   Min.   :   0.000  \n",
       " 1st Qu.:0.0e+00   1st Qu.:     0.00   1st Qu.:   2.000  \n",
       " Median :0.0e+00   Median :     0.00   Median :   3.000  \n",
       " Mean   :1.3e-01   Mean   :     1.24   Mean   :   7.225  \n",
       " 3rd Qu.:0.0e+00   3rd Qu.:     0.00   3rd Qu.:   6.000  \n",
       " Max.   :2.5e+05   Max.   :130760.00   Max.   :5000.000  "
      ]
     },
     "execution_count": 16,
     "metadata": {},
     "output_type": "execute_result"
    }
   ],
   "source": [
    "summary(train)"
   ]
  },
  {
   "cell_type": "markdown",
   "metadata": {},
   "source": [
    "Ok let's sample 100k rows and check em out:"
   ]
  },
  {
   "cell_type": "code",
   "execution_count": null,
   "metadata": {
    "collapsed": true
   },
   "outputs": [],
   "source": [
    "sam = sample(nrow(train))"
   ]
  },
  {
   "cell_type": "code",
   "execution_count": 3,
   "metadata": {
    "collapsed": true
   },
   "outputs": [],
   "source": [
    "n = 1e5\n",
    "train = fread(\"/Users/alexpapiu/Documents/Data/Bimbo/train.csv\", nrow = 1e5)"
   ]
  },
  {
   "cell_type": "code",
   "execution_count": 4,
   "metadata": {
    "collapsed": false
   },
   "outputs": [
    {
     "data": {
      "text/html": [
       "<table>\n",
       "<thead><tr><th></th><th scope=col>Semana</th><th scope=col>Agencia_ID</th><th scope=col>Canal_ID</th><th scope=col>Ruta_SAK</th><th scope=col>Cliente_ID</th><th scope=col>Producto_ID</th><th scope=col>Venta_uni_hoy</th><th scope=col>Venta_hoy</th><th scope=col>Dev_uni_proxima</th><th scope=col>Dev_proxima</th><th scope=col>Demanda_uni_equil</th></tr></thead>\n",
       "<tbody>\n",
       "\t<tr><th scope=row>1</th><td>3</td><td>1110</td><td>7</td><td>3301</td><td>15766</td><td>1212</td><td>3</td><td>25.14</td><td>0</td><td>0</td><td>3</td></tr>\n",
       "\t<tr><th scope=row>2</th><td>3</td><td>1110</td><td>7</td><td>3301</td><td>15766</td><td>1216</td><td>4</td><td>33.52</td><td>0</td><td>0</td><td>4</td></tr>\n",
       "\t<tr><th scope=row>3</th><td>3</td><td>1110</td><td>7</td><td>3301</td><td>15766</td><td>1238</td><td>4</td><td>39.32</td><td>0</td><td>0</td><td>4</td></tr>\n",
       "\t<tr><th scope=row>4</th><td>3</td><td>1110</td><td>7</td><td>3301</td><td>15766</td><td>1240</td><td>4</td><td>33.52</td><td>0</td><td>0</td><td>4</td></tr>\n",
       "\t<tr><th scope=row>5</th><td>3</td><td>1110</td><td>7</td><td>3301</td><td>15766</td><td>1242</td><td>3</td><td>22.92</td><td>0</td><td>0</td><td>3</td></tr>\n",
       "\t<tr><th scope=row>6</th><td>3</td><td>1110</td><td>7</td><td>3301</td><td>15766</td><td>1250</td><td>5</td><td>38.2</td><td>0</td><td>0</td><td>5</td></tr>\n",
       "</tbody>\n",
       "</table>\n"
      ],
      "text/latex": [
       "\\begin{tabular}{r|lllllllllll}\n",
       "  & Semana & Agencia_ID & Canal_ID & Ruta_SAK & Cliente_ID & Producto_ID & Venta_uni_hoy & Venta_hoy & Dev_uni_proxima & Dev_proxima & Demanda_uni_equil\\\\\n",
       "\\hline\n",
       "\t1 & 3 & 1110 & 7 & 3301 & 15766 & 1212 & 3 & 25.14 & 0 & 0 & 3\\\\\n",
       "\t2 & 3 & 1110 & 7 & 3301 & 15766 & 1216 & 4 & 33.52 & 0 & 0 & 4\\\\\n",
       "\t3 & 3 & 1110 & 7 & 3301 & 15766 & 1238 & 4 & 39.32 & 0 & 0 & 4\\\\\n",
       "\t4 & 3 & 1110 & 7 & 3301 & 15766 & 1240 & 4 & 33.52 & 0 & 0 & 4\\\\\n",
       "\t5 & 3 & 1110 & 7 & 3301 & 15766 & 1242 & 3 & 22.92 & 0 & 0 & 3\\\\\n",
       "\t6 & 3 & 1110 & 7 & 3301 & 15766 & 1250 & 5 & 38.2 & 0 & 0 & 5\\\\\n",
       "\\end{tabular}\n"
      ],
      "text/plain": [
       "   Semana Agencia_ID Canal_ID Ruta_SAK Cliente_ID Producto_ID Venta_uni_hoy\n",
       "1:      3       1110        7     3301      15766        1212             3\n",
       "2:      3       1110        7     3301      15766        1216             4\n",
       "3:      3       1110        7     3301      15766        1238             4\n",
       "4:      3       1110        7     3301      15766        1240             4\n",
       "5:      3       1110        7     3301      15766        1242             3\n",
       "6:      3       1110        7     3301      15766        1250             5\n",
       "   Venta_hoy Dev_uni_proxima Dev_proxima Demanda_uni_equil\n",
       "1:     25.14               0           0                 3\n",
       "2:     33.52               0           0                 4\n",
       "3:     39.32               0           0                 4\n",
       "4:     33.52               0           0                 4\n",
       "5:     22.92               0           0                 3\n",
       "6:     38.20               0           0                 5"
      ]
     },
     "execution_count": 4,
     "metadata": {},
     "output_type": "execute_result"
    }
   ],
   "source": [
    "head(train)"
   ]
  },
  {
   "cell_type": "code",
   "execution_count": 8,
   "metadata": {
    "collapsed": false
   },
   "outputs": [],
   "source": [
    "train %>% \n",
    "    count(Cliente_ID)%>%\n",
    "    arrange(desc(n)) -> client_id"
   ]
  },
  {
   "cell_type": "code",
   "execution_count": 11,
   "metadata": {
    "collapsed": false
   },
   "outputs": [
    {
     "data": {
      "text/html": [
       "<table>\n",
       "<thead><tr><th></th><th scope=col>Cliente_ID</th><th scope=col>n</th></tr></thead>\n",
       "<tbody>\n",
       "\t<tr><th scope=row>1</th><td>56717</td><td>96</td></tr>\n",
       "\t<tr><th scope=row>2</th><td>22248</td><td>90</td></tr>\n",
       "\t<tr><th scope=row>3</th><td>68056</td><td>90</td></tr>\n",
       "\t<tr><th scope=row>4</th><td>1578019</td><td>89</td></tr>\n",
       "\t<tr><th scope=row>5</th><td>39024</td><td>88</td></tr>\n",
       "\t<tr><th scope=row>6</th><td>23443</td><td>88</td></tr>\n",
       "\t<tr><th scope=row>7</th><td>50454</td><td>87</td></tr>\n",
       "\t<tr><th scope=row>8</th><td>74799</td><td>85</td></tr>\n",
       "\t<tr><th scope=row>9</th><td>30195</td><td>82</td></tr>\n",
       "\t<tr><th scope=row>10</th><td>1213962</td><td>81</td></tr>\n",
       "\t<tr><th scope=row>11</th><td>56065</td><td>80</td></tr>\n",
       "\t<tr><th scope=row>12</th><td>418780</td><td>80</td></tr>\n",
       "\t<tr><th scope=row>13</th><td>2485418</td><td>79</td></tr>\n",
       "\t<tr><th scope=row>14</th><td>210290</td><td>78</td></tr>\n",
       "\t<tr><th scope=row>15</th><td>75124</td><td>78</td></tr>\n",
       "\t<tr><th scope=row>16</th><td>1823448</td><td>78</td></tr>\n",
       "\t<tr><th scope=row>17</th><td>50827</td><td>77</td></tr>\n",
       "\t<tr><th scope=row>18</th><td>49560</td><td>77</td></tr>\n",
       "\t<tr><th scope=row>19</th><td>62224</td><td>77</td></tr>\n",
       "\t<tr><th scope=row>20</th><td>50838</td><td>76</td></tr>\n",
       "\t<tr><th scope=row>21</th><td>1284664</td><td>76</td></tr>\n",
       "\t<tr><th scope=row>22</th><td>74500</td><td>76</td></tr>\n",
       "\t<tr><th scope=row>23</th><td>56216</td><td>75</td></tr>\n",
       "\t<tr><th scope=row>24</th><td>49460</td><td>74</td></tr>\n",
       "\t<tr><th scope=row>25</th><td>49931</td><td>74</td></tr>\n",
       "\t<tr><th scope=row>26</th><td>23369</td><td>74</td></tr>\n",
       "\t<tr><th scope=row>27</th><td>56063</td><td>74</td></tr>\n",
       "\t<tr><th scope=row>28</th><td>129010</td><td>73</td></tr>\n",
       "\t<tr><th scope=row>29</th><td>1284623</td><td>73</td></tr>\n",
       "\t<tr><th scope=row>30</th><td>62408</td><td>73</td></tr>\n",
       "\t<tr><th scope=row>31</th><td>49983</td><td>72</td></tr>\n",
       "\t<tr><th scope=row>32</th><td>418434</td><td>72</td></tr>\n",
       "\t<tr><th scope=row>33</th><td>710007</td><td>72</td></tr>\n",
       "\t<tr><th scope=row>34</th><td>56908</td><td>72</td></tr>\n",
       "\t<tr><th scope=row>35</th><td>49956</td><td>72</td></tr>\n",
       "\t<tr><th scope=row>36</th><td>50466</td><td>72</td></tr>\n",
       "\t<tr><th scope=row>37</th><td>62121</td><td>72</td></tr>\n",
       "\t<tr><th scope=row>38</th><td>1436294</td><td>72</td></tr>\n",
       "\t<tr><th scope=row>39</th><td>1629109</td><td>72</td></tr>\n",
       "\t<tr><th scope=row>40</th><td>2096630</td><td>71</td></tr>\n",
       "\t<tr><th scope=row>41</th><td>1843881</td><td>71</td></tr>\n",
       "\t<tr><th scope=row>42</th><td>75071</td><td>71</td></tr>\n",
       "\t<tr><th scope=row>43</th><td>65623</td><td>71</td></tr>\n",
       "\t<tr><th scope=row>44</th><td>73523</td><td>71</td></tr>\n",
       "\t<tr><th scope=row>45</th><td>1379527</td><td>71</td></tr>\n",
       "\t<tr><th scope=row>46</th><td>1446507</td><td>71</td></tr>\n",
       "\t<tr><th scope=row>47</th><td>62286</td><td>71</td></tr>\n",
       "\t<tr><th scope=row>48</th><td>50396</td><td>70</td></tr>\n",
       "\t<tr><th scope=row>49</th><td>459436</td><td>70</td></tr>\n",
       "\t<tr><th scope=row>50</th><td>540774</td><td>70</td></tr>\n",
       "\t<tr><th scope=row>51</th><td>49924</td><td>70</td></tr>\n",
       "\t<tr><th scope=row>52</th><td>4558125</td><td>70</td></tr>\n",
       "\t<tr><th scope=row>53</th><td>49939</td><td>70</td></tr>\n",
       "\t<tr><th scope=row>54</th><td>30196</td><td>70</td></tr>\n",
       "\t<tr><th scope=row>55</th><td>62109</td><td>70</td></tr>\n",
       "\t<tr><th scope=row>56</th><td>1002823</td><td>70</td></tr>\n",
       "\t<tr><th scope=row>57</th><td>73510</td><td>70</td></tr>\n",
       "\t<tr><th scope=row>58</th><td>56561</td><td>69</td></tr>\n",
       "\t<tr><th scope=row>59</th><td>2113365</td><td>69</td></tr>\n",
       "\t<tr><th scope=row>60</th><td>50036</td><td>69</td></tr>\n",
       "</tbody>\n",
       "</table>\n"
      ],
      "text/latex": [
       "\\begin{tabular}{r|ll}\n",
       "  & Cliente_ID & n\\\\\n",
       "\\hline\n",
       "\t1 & 56717 & 96\\\\\n",
       "\t2 & 22248 & 90\\\\\n",
       "\t3 & 68056 & 90\\\\\n",
       "\t4 & 1578019 & 89\\\\\n",
       "\t5 & 39024 & 88\\\\\n",
       "\t6 & 23443 & 88\\\\\n",
       "\t7 & 50454 & 87\\\\\n",
       "\t8 & 74799 & 85\\\\\n",
       "\t9 & 30195 & 82\\\\\n",
       "\t10 & 1213962 & 81\\\\\n",
       "\t11 & 56065 & 80\\\\\n",
       "\t12 & 418780 & 80\\\\\n",
       "\t13 & 2485418 & 79\\\\\n",
       "\t14 & 210290 & 78\\\\\n",
       "\t15 & 75124 & 78\\\\\n",
       "\t16 & 1823448 & 78\\\\\n",
       "\t17 & 50827 & 77\\\\\n",
       "\t18 & 49560 & 77\\\\\n",
       "\t19 & 62224 & 77\\\\\n",
       "\t20 & 50838 & 76\\\\\n",
       "\t21 & 1284664 & 76\\\\\n",
       "\t22 & 74500 & 76\\\\\n",
       "\t23 & 56216 & 75\\\\\n",
       "\t24 & 49460 & 74\\\\\n",
       "\t25 & 49931 & 74\\\\\n",
       "\t26 & 23369 & 74\\\\\n",
       "\t27 & 56063 & 74\\\\\n",
       "\t28 & 129010 & 73\\\\\n",
       "\t29 & 1284623 & 73\\\\\n",
       "\t30 & 62408 & 73\\\\\n",
       "\t31 & 49983 & 72\\\\\n",
       "\t32 & 418434 & 72\\\\\n",
       "\t33 & 710007 & 72\\\\\n",
       "\t34 & 56908 & 72\\\\\n",
       "\t35 & 49956 & 72\\\\\n",
       "\t36 & 50466 & 72\\\\\n",
       "\t37 & 62121 & 72\\\\\n",
       "\t38 & 1436294 & 72\\\\\n",
       "\t39 & 1629109 & 72\\\\\n",
       "\t40 & 2096630 & 71\\\\\n",
       "\t41 & 1843881 & 71\\\\\n",
       "\t42 & 75071 & 71\\\\\n",
       "\t43 & 65623 & 71\\\\\n",
       "\t44 & 73523 & 71\\\\\n",
       "\t45 & 1379527 & 71\\\\\n",
       "\t46 & 1446507 & 71\\\\\n",
       "\t47 & 62286 & 71\\\\\n",
       "\t48 & 50396 & 70\\\\\n",
       "\t49 & 459436 & 70\\\\\n",
       "\t50 & 540774 & 70\\\\\n",
       "\t51 & 49924 & 70\\\\\n",
       "\t52 & 4558125 & 70\\\\\n",
       "\t53 & 49939 & 70\\\\\n",
       "\t54 & 30196 & 70\\\\\n",
       "\t55 & 62109 & 70\\\\\n",
       "\t56 & 1002823 & 70\\\\\n",
       "\t57 & 73510 & 70\\\\\n",
       "\t58 & 56561 & 69\\\\\n",
       "\t59 & 2113365 & 69\\\\\n",
       "\t60 & 50036 & 69\\\\\n",
       "\\end{tabular}\n"
      ],
      "text/plain": [
       "   Cliente_ID  n\n",
       "1       56717 96\n",
       "2       22248 90\n",
       "3       68056 90\n",
       "4     1578019 89\n",
       "5       39024 88\n",
       "6       23443 88\n",
       "7       50454 87\n",
       "8       74799 85\n",
       "9       30195 82\n",
       "10    1213962 81\n",
       "11      56065 80\n",
       "12     418780 80\n",
       "13    2485418 79\n",
       "14     210290 78\n",
       "15      75124 78\n",
       "16    1823448 78\n",
       "17      50827 77\n",
       "18      49560 77\n",
       "19      62224 77\n",
       "20      50838 76\n",
       "21    1284664 76\n",
       "22      74500 76\n",
       "23      56216 75\n",
       "24      49460 74\n",
       "25      49931 74\n",
       "26      23369 74\n",
       "27      56063 74\n",
       "28     129010 73\n",
       "29    1284623 73\n",
       "30      62408 73\n",
       "31      49983 72\n",
       "32     418434 72\n",
       "33     710007 72\n",
       "34      56908 72\n",
       "35      49956 72\n",
       "36      50466 72\n",
       "37      62121 72\n",
       "38    1436294 72\n",
       "39    1629109 72\n",
       "40    2096630 71\n",
       "41    1843881 71\n",
       "42      75071 71\n",
       "43      65623 71\n",
       "44      73523 71\n",
       "45    1379527 71\n",
       "46    1446507 71\n",
       "47      62286 71\n",
       "48      50396 70\n",
       "49     459436 70\n",
       "50     540774 70\n",
       "51      49924 70\n",
       "52    4558125 70\n",
       "53      49939 70\n",
       "54      30196 70\n",
       "55      62109 70\n",
       "56    1002823 70\n",
       "57      73510 70\n",
       "58      56561 69\n",
       "59    2113365 69\n",
       "60      50036 69"
      ]
     },
     "execution_count": 11,
     "metadata": {},
     "output_type": "execute_result"
    }
   ],
   "source": [
    "head(client_id, 60)"
   ]
  },
  {
   "cell_type": "code",
   "execution_count": null,
   "metadata": {
    "collapsed": true
   },
   "outputs": [],
   "source": []
  }
 ],
 "metadata": {
  "kernelspec": {
   "display_name": "R",
   "language": "R",
   "name": "ir"
  },
  "language_info": {
   "codemirror_mode": "r",
   "file_extension": ".r",
   "mimetype": "text/x-r-source",
   "name": "R",
   "pygments_lexer": "r",
   "version": "3.2.4"
  }
 },
 "nbformat": 4,
 "nbformat_minor": 0
}
